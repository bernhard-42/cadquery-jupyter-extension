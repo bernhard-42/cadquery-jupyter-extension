{
 "cells": [
  {
   "cell_type": "code",
   "execution_count": null,
   "metadata": {},
   "outputs": [],
   "source": [
    "from IPython.core.display import display, HTML\n",
    "display(HTML(\"<style>.container { width:95% !important; }</style>\"))"
   ]
  },
  {
   "cell_type": "code",
   "execution_count": null,
   "metadata": {
    "ExecuteTime": {
     "end_time": "2019-01-06T19:47:54.723547Z",
     "start_time": "2019-01-06T19:47:53.728475Z"
    }
   },
   "outputs": [],
   "source": [
    "import cadquery as cq\n",
    "from cq_jupyter import Assembly, Part"
   ]
  },
  {
   "cell_type": "code",
   "execution_count": null,
   "metadata": {
    "ExecuteTime": {
     "end_time": "2019-01-06T19:53:06.752547Z",
     "start_time": "2019-01-06T19:53:06.642758Z"
    },
    "scrolled": false
   },
   "outputs": [],
   "source": [
    "b = cq.Workplane('XY')\n",
    "box1 = b.box(1,2,3).edges(\">X\").chamfer(0.1)\n",
    "box2 = b.transformed(offset=cq.Vector(0, 1.5, 0.8)).box(3,2,1).edges(\">Z\").fillet(0.1)\n",
    "box1.cut(box2)\n",
    "\n",
    "Assembly(\n",
    "    Part(box1, \"red box\", (1,0,0), visible=True), \n",
    "    Part(box2, \"green box\", (0,1,0), visible=True),\n",
    "    height=600,   # height of the view div\n",
    "    ortho=True,   # use orthographic view\n",
    "    fov=0.4,      # field of view (used only for ortho=False)\n",
    "    debug=False   # print html string including the x3dom string for debugging\n",
    ")"
   ]
  },
  {
   "cell_type": "markdown",
   "metadata": {},
   "source": [
    "# Phone holder "
   ]
  },
  {
   "cell_type": "code",
   "execution_count": null,
   "metadata": {
    "ExecuteTime": {
     "end_time": "2019-01-06T20:17:54.995277Z",
     "start_time": "2019-01-06T20:17:53.005517Z"
    },
    "scrolled": false
   },
   "outputs": [],
   "source": [
    "length = 70\n",
    "width = 80\n",
    "height = 8.5\n",
    "thickness = 1.5\n",
    "deviceRadius = 7\n",
    "innerRadius = (height - 0.5) / 2.0\n",
    "padding = 11.0 - deviceRadius\n",
    "\n",
    "b = cq.Workplane('XY')\n",
    "f = cq.Workplane('XZ')\n",
    "\n",
    "inner = (\n",
    "    b.box(length, width, height)\n",
    "       .edges('|Z').edges('<Y').fillet(deviceRadius)\n",
    "       .edges(\"|Y\").edges(\"<Y\").fillet(innerRadius)\n",
    ")\n",
    "\n",
    "outer = (\n",
    "    b.box(length + thickness, width + 2 * thickness, height + thickness)\n",
    "        .edges('|Z').edges('<Y').fillet(deviceRadius + thickness / 2)  \n",
    "        .edges(\"|Y\").edges(\"<Y\").fillet(innerRadius + thickness/2)\n",
    ")\n",
    "\n",
    "front_cutter = (\n",
    "    f.transformed(offset=cq.Vector(0, 0, -width/2))\n",
    "    .box(length + 2 * thickness, height + 2 * thickness, 2 * thickness)\n",
    ")\n",
    "\n",
    "top_cutter = (\n",
    "    b.transformed(offset=cq.Vector(0, thickness/2, (height)/2))\n",
    "    .box(length - deviceRadius, width - deviceRadius + 2* thickness, 2 * thickness)\n",
    "    .edges('|Z').edges('<Y').fillet(innerRadius)  \n",
    ")\n",
    "\n",
    "bottom_cutter = (\n",
    "    b.transformed(offset=cq.Vector(0, -width/2 + thickness, thickness))\n",
    "    .box(length - deviceRadius - padding, deviceRadius + 2 * thickness, height + thickness)\n",
    "    .edges('|Y').edges('<Y').fillet(height/2 + thickness/4)\n",
    ")\n",
    "\n",
    "shell = (\n",
    "    outer\n",
    "    .cut(inner)\n",
    "    .cut(front_cutter)\n",
    "    .cut(top_cutter)\n",
    "    .cut(bottom_cutter)\n",
    ")\n",
    "\n",
    "Assembly(\n",
    "    Part(shell,         \"shell\",         (1,1,0)), \n",
    "    Part(front_cutter,  \"front_cutter\",  (1,0,0), visible=False),\n",
    "    Part(top_cutter,    \"top_cutter\",    (0,1,0), visible=False),\n",
    "    Part(bottom_cutter, \"bottom_cutter\", (0,0,1), visible=False),\n",
    "    height=600,\n",
    "    ortho=True,\n",
    "    fov=0.1,      # used only for ortho=False \n",
    "    debug=False\n",
    ")"
   ]
  },
  {
   "cell_type": "code",
   "execution_count": null,
   "metadata": {
    "ExecuteTime": {
     "end_time": "2019-01-04T07:40:59.024398Z",
     "start_time": "2019-01-04T07:40:59.020959Z"
    }
   },
   "outputs": [],
   "source": [
    "from cadquery import exporters"
   ]
  },
  {
   "cell_type": "code",
   "execution_count": null,
   "metadata": {
    "ExecuteTime": {
     "end_time": "2019-01-03T13:44:50.165593Z",
     "start_time": "2019-01-03T13:44:50.111911Z"
    }
   },
   "outputs": [],
   "source": [
    "with open(\"hh.stl\", \"w\") as fd:\n",
    "    exporters.exportShape(shell, \"STL\", fd)"
   ]
  },
  {
   "cell_type": "code",
   "execution_count": null,
   "metadata": {},
   "outputs": [],
   "source": []
  }
 ],
 "metadata": {
  "kernelspec": {
   "display_name": "Python 3",
   "language": "python",
   "name": "python3"
  },
  "language_info": {
   "codemirror_mode": {
    "name": "ipython",
    "version": 3
   },
   "file_extension": ".py",
   "mimetype": "text/x-python",
   "name": "python",
   "nbconvert_exporter": "python",
   "pygments_lexer": "ipython3",
   "version": "3.6.6"
  },
  "toc": {
   "base_numbering": 1,
   "nav_menu": {},
   "number_sections": true,
   "sideBar": true,
   "skip_h1_title": false,
   "title_cell": "Table of Contents",
   "title_sidebar": "Contents",
   "toc_cell": false,
   "toc_position": {
    "height": "calc(100% - 180px)",
    "left": "10px",
    "top": "150px",
    "width": "348.391px"
   },
   "toc_section_display": true,
   "toc_window_display": false
  },
  "varInspector": {
   "cols": {
    "lenName": 16,
    "lenType": 16,
    "lenVar": 40
   },
   "kernels_config": {
    "python": {
     "delete_cmd_postfix": "",
     "delete_cmd_prefix": "del ",
     "library": "var_list.py",
     "varRefreshCmd": "print(var_dic_list())"
    },
    "r": {
     "delete_cmd_postfix": ") ",
     "delete_cmd_prefix": "rm(",
     "library": "var_list.r",
     "varRefreshCmd": "cat(var_dic_list()) "
    }
   },
   "types_to_exclude": [
    "module",
    "function",
    "builtin_function_or_method",
    "instance",
    "_Feature"
   ],
   "window_display": false
  }
 },
 "nbformat": 4,
 "nbformat_minor": 2
}
