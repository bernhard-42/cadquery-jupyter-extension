{
 "cells": [
  {
   "cell_type": "code",
   "execution_count": null,
   "metadata": {
    "ExecuteTime": {
     "end_time": "2019-01-28T06:31:48.013857Z",
     "start_time": "2019-01-28T06:31:47.999808Z"
    }
   },
   "outputs": [],
   "source": [
    "from IPython.core.display import display, HTML\n",
    "display(HTML(\"<style>.container { width:95% !important; }</style>\"))"
   ]
  },
  {
   "cell_type": "markdown",
   "metadata": {},
   "source": [
    "# CQParts Example\n",
    "\n",
    "Source: https://cqparts.github.io/cqparts/doc/tutorials/assembly.html"
   ]
  },
  {
   "cell_type": "code",
   "execution_count": null,
   "metadata": {
    "ExecuteTime": {
     "end_time": "2019-01-28T06:31:52.025233Z",
     "start_time": "2019-01-28T06:31:49.749555Z"
    },
    "scrolled": false
   },
   "outputs": [],
   "source": [
    "import cadquery\n",
    "import cqparts\n",
    "from cqparts.params import *\n",
    "from cqparts.display import render_props\n",
    "\n",
    "from cq_jupyter import display\n",
    "\n",
    "class Wheel(cqparts.Part):\n",
    "    # Parameters\n",
    "    width = PositiveFloat(10, doc=\"width of wheel\")\n",
    "    diameter = PositiveFloat(30, doc=\"wheel diameter\")\n",
    "\n",
    "    # default appearance\n",
    "    _render = render_props(template='wood_dark')\n",
    "\n",
    "    def make(self):\n",
    "        wheel = cadquery.Workplane('XY') \\\n",
    "            .circle(self.diameter / 2).extrude(self.width)\n",
    "        hole = cadquery.Workplane('XY') \\\n",
    "            .circle(2).extrude(self.width/2).faces(\">Z\") \\\n",
    "            .circle(4).extrude(self.width/2)\n",
    "        wheel = wheel.cut(hole)\n",
    "        return wheel\n",
    "\n",
    "    def get_cutout(self, clearance=0):\n",
    "        # A cylinder with a equal clearance on every face\n",
    "        return cadquery.Workplane('XY', origin=(0, 0, -clearance)) \\\n",
    "            .circle((self.diameter / 2) + clearance) \\\n",
    "            .extrude(self.width + (2 * clearance))"
   ]
  },
  {
   "cell_type": "code",
   "execution_count": null,
   "metadata": {
    "ExecuteTime": {
     "end_time": "2019-01-28T06:31:52.806487Z",
     "start_time": "2019-01-28T06:31:52.790285Z"
    }
   },
   "outputs": [],
   "source": [
    "from cqparts.constraint import Mate\n",
    "from cqparts.utils.geometry import CoordSystem\n",
    "\n",
    "class Axle(cqparts.Part):\n",
    "    # Parameters\n",
    "    length = PositiveFloat(50, doc=\"axle length\")\n",
    "    diameter = PositiveFloat(10, doc=\"axle diameter\")\n",
    "\n",
    "    # default appearance\n",
    "    _render = render_props(color=(50, 50, 50))  # dark grey\n",
    "\n",
    "    def make(self):\n",
    "        axle = cadquery.Workplane('ZX', origin=(0, -self.length/2, 0)) \\\n",
    "            .circle(self.diameter / 2).extrude(self.length)\n",
    "        cutout = cadquery.Workplane('ZX', origin=(0, -self.length/2, 0)) \\\n",
    "            .circle(1.5).extrude(10)\n",
    "        axle = axle.cut(cutout)\n",
    "        cutout = cadquery.Workplane('XZ', origin=(0, self.length/2, 0)) \\\n",
    "            .circle(1.5).extrude(10)\n",
    "        axle = axle.cut(cutout)\n",
    "        return axle\n",
    "\n",
    "    # wheel mates, assuming they rotate around z-axis\n",
    "    @property\n",
    "    def mate_left(self):\n",
    "        return Mate(self, CoordSystem(\n",
    "            origin=(0, -self.length / 2, 0),\n",
    "            xDir=(1, 0, 0), normal=(0, -1, 0),\n",
    "        ))\n",
    "\n",
    "    @property\n",
    "    def mate_right(self):\n",
    "        return Mate(self, CoordSystem(\n",
    "            origin=(0, self.length / 2, 0),\n",
    "            xDir=(1, 0, 0), normal=(0, 1, 0),\n",
    "        ))\n",
    "\n",
    "    def get_cutout(self, clearance=0):\n",
    "        return cadquery.Workplane('ZX', origin=(0, -self.length/2 - clearance, 0)) \\\n",
    "            .circle((self.diameter / 2) + clearance) \\\n",
    "            .extrude(self.length + (2 * clearance))"
   ]
  },
  {
   "cell_type": "code",
   "execution_count": null,
   "metadata": {
    "ExecuteTime": {
     "end_time": "2019-01-28T06:31:53.309878Z",
     "start_time": "2019-01-28T06:31:53.301591Z"
    }
   },
   "outputs": [],
   "source": [
    "class Chassis(cqparts.Part):\n",
    "    # Parameters\n",
    "    width = PositiveFloat(50, doc=\"chassis width\")\n",
    "\n",
    "    _render = render_props(template='wood_light')\n",
    "\n",
    "    def make(self):\n",
    "        points = [  # chassis outline\n",
    "            (-60,0),(-60,22),(-47,23),(-37,40),\n",
    "            (5,40),(23,25),(60,22),(60,0),\n",
    "        ]\n",
    "        return cadquery.Workplane('XZ', origin=(0,self.width/2,0)) \\\n",
    "            .moveTo(*points[0]).polyline(points[1:]).close() \\\n",
    "            .extrude(self.width)"
   ]
  },
  {
   "cell_type": "code",
   "execution_count": null,
   "metadata": {
    "ExecuteTime": {
     "end_time": "2019-01-28T06:31:53.939344Z",
     "start_time": "2019-01-28T06:31:53.923567Z"
    }
   },
   "outputs": [],
   "source": [
    "from cqparts.constraint import Fixed, Coincident\n",
    "\n",
    "class WheeledAxle(cqparts.Assembly):\n",
    "    left_width = PositiveFloat(7, doc=\"left wheel width\")\n",
    "    right_width = PositiveFloat(7, doc=\"right wheel width\")\n",
    "    left_diam = PositiveFloat(25, doc=\"left wheel diameter\")\n",
    "    right_diam = PositiveFloat(25, doc=\"right wheel diameter\")\n",
    "    axle_diam = PositiveFloat(8, doc=\"axel diameter\")\n",
    "    axle_track = PositiveFloat(50, doc=\"distance between wheel tread midlines\")\n",
    "    wheel_clearance = PositiveFloat(3, doc=\"distance between wheel and chassis\")\n",
    "\n",
    "    def make_components(self):\n",
    "        axel_length = self.axle_track - (self.left_width + self.right_width) / 2\n",
    "        return {\n",
    "            'axle': Axle(length=axel_length, diameter=self.axle_diam),\n",
    "            'left_wheel': Wheel(width=self.left_width, diameter=self.left_diam),\n",
    "            'right_wheel': Wheel(width=self.right_width, diameter=self.right_diam),\n",
    "        }\n",
    "\n",
    "    def make_constraints(self):\n",
    "        return [\n",
    "            Fixed(self.components['axle'].mate_origin, CoordSystem()),\n",
    "            Coincident(\n",
    "                self.components['left_wheel'].mate_origin,\n",
    "                self.components['axle'].mate_left\n",
    "            ),\n",
    "            Coincident(\n",
    "                self.components['right_wheel'].mate_origin,\n",
    "                self.components['axle'].mate_right\n",
    "            ),\n",
    "        ]\n",
    "\n",
    "    def apply_cutout(self, part):\n",
    "        # Cut wheel & axle from given part\n",
    "        axle = self.components['axle']\n",
    "        left_wheel = self.components['left_wheel']\n",
    "        right_wheel = self.components['right_wheel']\n",
    "        local_obj = part.local_obj\n",
    "        local_obj = local_obj \\\n",
    "            .cut((axle.world_coords - part.world_coords) + axle.get_cutout()) \\\n",
    "            .cut((left_wheel.world_coords - part.world_coords) + left_wheel.get_cutout(self.wheel_clearance)) \\\n",
    "            .cut((right_wheel.world_coords - part.world_coords) + right_wheel.get_cutout(self.wheel_clearance))\n",
    "        part.local_obj = local_obj\n"
   ]
  },
  {
   "cell_type": "code",
   "execution_count": null,
   "metadata": {
    "ExecuteTime": {
     "end_time": "2019-01-28T06:31:54.649675Z",
     "start_time": "2019-01-28T06:31:54.634897Z"
    }
   },
   "outputs": [],
   "source": [
    "class Car(cqparts.Assembly):\n",
    "    # Parameters\n",
    "    wheelbase = PositiveFloat(70, \"distance between front and rear axles\")\n",
    "    axle_track = PositiveFloat(60, \"distance between tread midlines\")\n",
    "    # wheels\n",
    "    wheel_width = PositiveFloat(10, doc=\"width of all wheels\")\n",
    "    front_wheel_diam = PositiveFloat(30, doc=\"front wheel diameter\")\n",
    "    rear_wheel_diam = PositiveFloat(30, doc=\"rear wheel diameter\")\n",
    "    axle_diam = PositiveFloat(10, doc=\"axle diameter\")\n",
    "\n",
    "    def make_components(self):\n",
    "        return {\n",
    "            'chassis': Chassis(width=self.axle_track),\n",
    "            'front_axle': WheeledAxle(\n",
    "                left_width=self.wheel_width,\n",
    "                right_width=self.wheel_width,\n",
    "                left_diam=self.front_wheel_diam,\n",
    "                right_diam=self.front_wheel_diam,\n",
    "                axle_diam=self.axle_diam,\n",
    "                axle_track=self.axle_track,\n",
    "            ),\n",
    "            'rear_axle': WheeledAxle(\n",
    "                left_width=self.wheel_width,\n",
    "                right_width=self.wheel_width,\n",
    "                left_diam=self.rear_wheel_diam,\n",
    "                right_diam=self.rear_wheel_diam,\n",
    "                axle_diam=self.axle_diam,\n",
    "                axle_track=self.axle_track,\n",
    "            ),\n",
    "        }\n",
    "\n",
    "    def make_constraints(self):\n",
    "        return [\n",
    "            Fixed(self.components['chassis'].mate_origin),\n",
    "            Coincident(\n",
    "                self.components['front_axle'].mate_origin,\n",
    "                Mate(self.components['chassis'], CoordSystem((self.wheelbase/2,0,0))),\n",
    "            ),\n",
    "            Coincident(\n",
    "                self.components['rear_axle'].mate_origin,\n",
    "                Mate(self.components['chassis'], CoordSystem((-self.wheelbase/2,0,0))),\n",
    "            ),\n",
    "        ]\n",
    "\n",
    "    def make_alterations(self):\n",
    "        # cut out wheel wells\n",
    "        chassis = self.components['chassis']\n",
    "        self.components['front_axle'].apply_cutout(chassis)\n",
    "        self.components['rear_axle'].apply_cutout(chassis)\n",
    "        \n",
    "        "
   ]
  },
  {
   "cell_type": "code",
   "execution_count": null,
   "metadata": {
    "ExecuteTime": {
     "end_time": "2019-01-28T06:31:56.992816Z",
     "start_time": "2019-01-28T06:31:55.584763Z"
    }
   },
   "outputs": [],
   "source": [
    "car = Car()\n",
    "display(car)"
   ]
  },
  {
   "cell_type": "code",
   "execution_count": null,
   "metadata": {
    "ExecuteTime": {
     "end_time": "2019-01-28T06:38:26.104521Z",
     "start_time": "2019-01-28T06:38:25.451046Z"
    }
   },
   "outputs": [],
   "source": [
    "from cq_jupyter import exportSTL\n",
    "\n",
    "exportSTL(car, \"/tmp/car.stl\")"
   ]
  },
  {
   "cell_type": "code",
   "execution_count": null,
   "metadata": {
    "ExecuteTime": {
     "end_time": "2019-01-28T06:38:36.855225Z",
     "start_time": "2019-01-28T06:38:36.713892Z"
    }
   },
   "outputs": [],
   "source": [
    "!head /tmp/car.stl"
   ]
  },
  {
   "cell_type": "code",
   "execution_count": null,
   "metadata": {},
   "outputs": [],
   "source": []
  }
 ],
 "metadata": {
  "kernelspec": {
   "display_name": "Python 3",
   "language": "python",
   "name": "python3"
  },
  "language_info": {
   "codemirror_mode": {
    "name": "ipython",
    "version": 3
   },
   "file_extension": ".py",
   "mimetype": "text/x-python",
   "name": "python",
   "nbconvert_exporter": "python",
   "pygments_lexer": "ipython3",
   "version": "3.6.5"
  },
  "toc": {
   "base_numbering": 1,
   "nav_menu": {},
   "number_sections": true,
   "sideBar": true,
   "skip_h1_title": false,
   "title_cell": "Table of Contents",
   "title_sidebar": "Contents",
   "toc_cell": false,
   "toc_position": {
    "height": "calc(100% - 180px)",
    "left": "10px",
    "top": "150px",
    "width": "348.391px"
   },
   "toc_section_display": true,
   "toc_window_display": false
  },
  "varInspector": {
   "cols": {
    "lenName": 16,
    "lenType": 16,
    "lenVar": 40
   },
   "kernels_config": {
    "python": {
     "delete_cmd_postfix": "",
     "delete_cmd_prefix": "del ",
     "library": "var_list.py",
     "varRefreshCmd": "print(var_dic_list())"
    },
    "r": {
     "delete_cmd_postfix": ") ",
     "delete_cmd_prefix": "rm(",
     "library": "var_list.r",
     "varRefreshCmd": "cat(var_dic_list()) "
    }
   },
   "types_to_exclude": [
    "module",
    "function",
    "builtin_function_or_method",
    "instance",
    "_Feature"
   ],
   "window_display": false
  }
 },
 "nbformat": 4,
 "nbformat_minor": 2
}
