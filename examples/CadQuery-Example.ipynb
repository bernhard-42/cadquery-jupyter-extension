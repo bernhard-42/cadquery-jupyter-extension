{
 "cells": [
  {
   "cell_type": "code",
   "execution_count": null,
   "metadata": {
    "ExecuteTime": {
     "end_time": "2019-01-28T06:20:21.321263Z",
     "start_time": "2019-01-28T06:20:21.306123Z"
    }
   },
   "outputs": [],
   "source": [
    "from IPython.core.display import display, HTML\n",
    "display(HTML(\"<style>.container { width:95% !important; }</style>\"))"
   ]
  },
  {
   "cell_type": "code",
   "execution_count": null,
   "metadata": {
    "ExecuteTime": {
     "end_time": "2019-01-28T06:21:42.334597Z",
     "start_time": "2019-01-28T06:21:42.331020Z"
    },
    "scrolled": true
   },
   "outputs": [],
   "source": [
    "import cadquery as cq\n",
    "from cq_jupyter import Assembly, Part, display, exportSTL"
   ]
  },
  {
   "cell_type": "markdown",
   "metadata": {},
   "source": [
    "# CadQuery Example"
   ]
  },
  {
   "cell_type": "code",
   "execution_count": null,
   "metadata": {
    "ExecuteTime": {
     "end_time": "2019-01-28T06:26:58.735995Z",
     "start_time": "2019-01-28T06:26:58.565092Z"
    },
    "scrolled": false
   },
   "outputs": [],
   "source": [
    "b = cq.Workplane('XY')\n",
    "box1 = b.box(1,2,3).edges(\">X\").chamfer(0.1)\n",
    "box2 = b.transformed(offset=cq.Vector(0, 1.5, 0.8)).box(3,2,1)\\\n",
    "        .edges(\">Z\").fillet(0.1)\n",
    "box1.cut(box2)\n",
    "\n",
    "a = Assembly(\n",
    "    \"example\",\n",
    "    [\n",
    "        Part(box1, \"red box\", (1,0,0), show_mesh=False), \n",
    "        Part(box2, \"green box\", (0,1,0), show_shape=False)\n",
    "    ]\n",
    ")\n",
    "\n",
    "display(a,\n",
    "    height=300,   # height of the view div\n",
    "    ortho=True,   # use orthographic view\n",
    "    fov=0.4,      # field of view (used only for ortho=False)\n",
    "    debug=False   # print html string including the x3dom string for debugging\n",
    ")"
   ]
  },
  {
   "cell_type": "code",
   "execution_count": null,
   "metadata": {
    "ExecuteTime": {
     "end_time": "2019-01-28T06:22:16.559178Z",
     "start_time": "2019-01-28T06:22:16.532695Z"
    }
   },
   "outputs": [],
   "source": [
    "exportSTL(a, \"/tmp/test.stl\")"
   ]
  },
  {
   "cell_type": "code",
   "execution_count": null,
   "metadata": {
    "ExecuteTime": {
     "end_time": "2019-01-28T06:22:30.588319Z",
     "start_time": "2019-01-28T06:22:30.445794Z"
    }
   },
   "outputs": [],
   "source": [
    "!head /tmp/test.stl"
   ]
  },
  {
   "cell_type": "code",
   "execution_count": null,
   "metadata": {},
   "outputs": [],
   "source": []
  }
 ],
 "metadata": {
  "kernelspec": {
   "display_name": "Python 3",
   "language": "python",
   "name": "python3"
  },
  "language_info": {
   "codemirror_mode": {
    "name": "ipython",
    "version": 3
   },
   "file_extension": ".py",
   "mimetype": "text/x-python",
   "name": "python",
   "nbconvert_exporter": "python",
   "pygments_lexer": "ipython3",
   "version": "3.6.5"
  },
  "toc": {
   "base_numbering": 1,
   "nav_menu": {},
   "number_sections": true,
   "sideBar": true,
   "skip_h1_title": false,
   "title_cell": "Table of Contents",
   "title_sidebar": "Contents",
   "toc_cell": false,
   "toc_position": {
    "height": "calc(100% - 180px)",
    "left": "10px",
    "top": "150px",
    "width": "348.391px"
   },
   "toc_section_display": true,
   "toc_window_display": false
  },
  "varInspector": {
   "cols": {
    "lenName": 16,
    "lenType": 16,
    "lenVar": 40
   },
   "kernels_config": {
    "python": {
     "delete_cmd_postfix": "",
     "delete_cmd_prefix": "del ",
     "library": "var_list.py",
     "varRefreshCmd": "print(var_dic_list())"
    },
    "r": {
     "delete_cmd_postfix": ") ",
     "delete_cmd_prefix": "rm(",
     "library": "var_list.r",
     "varRefreshCmd": "cat(var_dic_list()) "
    }
   },
   "types_to_exclude": [
    "module",
    "function",
    "builtin_function_or_method",
    "instance",
    "_Feature"
   ],
   "window_display": false
  }
 },
 "nbformat": 4,
 "nbformat_minor": 2
}
