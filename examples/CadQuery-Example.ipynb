{
 "cells": [
  {
   "cell_type": "code",
   "execution_count": null,
   "metadata": {
    "ExecuteTime": {
     "end_time": "2019-03-09T19:39:03.645422Z",
     "start_time": "2019-03-09T19:39:03.631998Z"
    }
   },
   "outputs": [],
   "source": [
    "from IPython.core.display import display, HTML\n",
    "display(HTML(\"<style>.container { width:95% !important; }</style>\"))"
   ]
  },
  {
   "cell_type": "code",
   "execution_count": null,
   "metadata": {
    "ExecuteTime": {
     "end_time": "2019-03-09T19:39:07.384642Z",
     "start_time": "2019-03-09T19:39:07.380836Z"
    }
   },
   "outputs": [],
   "source": [
    "import cadquery as cq\n",
    "from cq_jupyter import Assembly, Part, Edges, Faces, display, exportSTL"
   ]
  },
  {
   "cell_type": "markdown",
   "metadata": {},
   "source": [
    "# CadQuery Example"
   ]
  },
  {
   "cell_type": "code",
   "execution_count": null,
   "metadata": {
    "ExecuteTime": {
     "end_time": "2019-03-09T19:39:09.110350Z",
     "start_time": "2019-03-09T19:39:08.723541Z"
    }
   },
   "outputs": [],
   "source": [
    "b = cq.Workplane('XY')\n",
    "box1 = b.box(1,2,3).edges(\">X or <X\").chamfer(0.2)\n",
    "box2 = b.transformed(offset=cq.Vector(0, 1.5, 0.7)).box(3,2,0.6)\\\n",
    "        .edges(\">Z\").fillet(0.3)\n",
    "box3 = b.transformed(offset=cq.Vector(0, 1.0, -0.7)).box(2,3,0.6)\\\n",
    "        .edges(\"<Z\").fillet(0.3)\n",
    "box1.cut(box2)\n",
    "box1.cut(box3)"
   ]
  },
  {
   "cell_type": "code",
   "execution_count": null,
   "metadata": {
    "ExecuteTime": {
     "end_time": "2019-03-09T19:39:10.655247Z",
     "start_time": "2019-03-09T19:39:10.612617Z"
    }
   },
   "outputs": [],
   "source": [
    "box1.faces(\"|Z\")"
   ]
  },
  {
   "cell_type": "code",
   "execution_count": null,
   "metadata": {
    "ExecuteTime": {
     "end_time": "2019-03-09T19:39:14.307336Z",
     "start_time": "2019-03-09T19:39:14.187020Z"
    }
   },
   "outputs": [],
   "source": [
    "box1.edges(\"|Z\")"
   ]
  },
  {
   "cell_type": "code",
   "execution_count": null,
   "metadata": {
    "ExecuteTime": {
     "end_time": "2019-03-09T19:39:17.840795Z",
     "start_time": "2019-03-09T19:39:17.685326Z"
    }
   },
   "outputs": [],
   "source": [
    "display(box1, box1.faces(\"|Z\"), box1.edges(\"|Z\"))"
   ]
  },
  {
   "cell_type": "code",
   "execution_count": null,
   "metadata": {
    "ExecuteTime": {
     "end_time": "2019-03-09T19:39:20.485575Z",
     "start_time": "2019-03-09T19:39:20.399449Z"
    }
   },
   "outputs": [],
   "source": [
    "sub_assembly = Assembly([\n",
    "    Part(box2, \"green box\", (0,1,0), show_edges=False), \n",
    "    Part(box3, \"blue box\",  (0,0,1), show_edges=False)],\n",
    "    name=\"sub\"\n",
    ")\n",
    "\n",
    "assembly = Assembly([\n",
    "    Part(box1, \"red box\",   (1,0,0)), \n",
    "    sub_assembly],\n",
    "    name=\"root\")\n",
    "\n",
    "display(assembly,\n",
    "    height=500,   # height of the view div\n",
    "    ortho=True,   # use orthographic view\n",
    "    fov=0.4,      # field of view (used only for ortho=False)\n",
    "    debug=False   # print html string including the x3dom string for debugging\n",
    ")"
   ]
  },
  {
   "cell_type": "code",
   "execution_count": null,
   "metadata": {
    "ExecuteTime": {
     "end_time": "2019-03-09T19:21:25.538918Z",
     "start_time": "2019-03-09T19:21:25.468831Z"
    }
   },
   "outputs": [],
   "source": [
    "exportSTL(assembly, \"/tmp/test.stl\")"
   ]
  },
  {
   "cell_type": "code",
   "execution_count": null,
   "metadata": {
    "ExecuteTime": {
     "end_time": "2019-03-09T19:21:27.109970Z",
     "start_time": "2019-03-09T19:21:26.967423Z"
    }
   },
   "outputs": [],
   "source": [
    "!head /tmp/test.stl"
   ]
  },
  {
   "cell_type": "code",
   "execution_count": null,
   "metadata": {},
   "outputs": [],
   "source": []
  }
 ],
 "metadata": {
  "kernelspec": {
   "display_name": "Python 3",
   "language": "python",
   "name": "python3"
  },
  "language_info": {
   "codemirror_mode": {
    "name": "ipython",
    "version": 3
   },
   "file_extension": ".py",
   "mimetype": "text/x-python",
   "name": "python",
   "nbconvert_exporter": "python",
   "pygments_lexer": "ipython3",
   "version": "3.6.7"
  },
  "toc": {
   "base_numbering": 1,
   "nav_menu": {},
   "number_sections": true,
   "sideBar": true,
   "skip_h1_title": false,
   "title_cell": "Table of Contents",
   "title_sidebar": "Contents",
   "toc_cell": false,
   "toc_position": {
    "height": "calc(100% - 180px)",
    "left": "10px",
    "top": "150px",
    "width": "348.391px"
   },
   "toc_section_display": true,
   "toc_window_display": false
  },
  "varInspector": {
   "cols": {
    "lenName": 16,
    "lenType": 16,
    "lenVar": 40
   },
   "kernels_config": {
    "python": {
     "delete_cmd_postfix": "",
     "delete_cmd_prefix": "del ",
     "library": "var_list.py",
     "varRefreshCmd": "print(var_dic_list())"
    },
    "r": {
     "delete_cmd_postfix": ") ",
     "delete_cmd_prefix": "rm(",
     "library": "var_list.r",
     "varRefreshCmd": "cat(var_dic_list()) "
    }
   },
   "types_to_exclude": [
    "module",
    "function",
    "builtin_function_or_method",
    "instance",
    "_Feature"
   ],
   "window_display": false
  }
 },
 "nbformat": 4,
 "nbformat_minor": 2
}
