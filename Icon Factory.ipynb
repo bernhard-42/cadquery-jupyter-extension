{
 "cells": [
  {
   "cell_type": "markdown",
   "metadata": {},
   "source": [
    "# Class definitions"
   ]
  },
  {
   "cell_type": "code",
   "execution_count": 7,
   "metadata": {},
   "outputs": [],
   "source": [
    "from PIL import Image, ImageDraw\n",
    "\n",
    "class Point(object):\n",
    "    def __init__(self, x, y):\n",
    "        self.p = (x, y)\n",
    "        self.x = x\n",
    "        self.y = y\n",
    "    \n",
    "    def shift(self, dx, dy):\n",
    "        return Point(self.p[0] + dx, self.p[1] + dy)\n",
    "\n",
    "    def __repr__(self):\n",
    "        return \"(%f, %f)\" % (self.p)\n",
    "    \n",
    "    def coord(self, height, scale=9):\n",
    "        return (scale * self.p[0], scale *(height - self.p[1]))\n",
    "\n",
    "\n",
    "class Base():\n",
    "    def __init__(self, width, height, scale=9, stroke=9, color=None, fill_color=None, background_color=None):\n",
    "        self.width = width\n",
    "        self.height = height\n",
    "        self.stroke = stroke\n",
    "        self.scale = scale\n",
    "\n",
    "        if color is None:\n",
    "            self.color = (0,0,0)\n",
    "        else:\n",
    "            self.color = color\n",
    "        if fill_color is None:\n",
    "            self.fill_color = (1,1,0)\n",
    "        else:\n",
    "            self.fill_color = fill_color\n",
    "\n",
    "        self.im = Image.new(\"RGBA\", (self.width*self.scale, self.height*self.scale), color=background_color)\n",
    "        self.draw = ImageDraw.Draw(self.im)\n",
    "        \n",
    "    def boundingBox(self, p, r=None):\n",
    "        if r is not None:\n",
    "            return (p[0] - r, p[1] - r, p[0] + r, p[1] + r)\n",
    "        \n",
    "    def line(self, p1, p2):\n",
    "        coords = [p1.coord(self.height, self.scale), p2.coord(self.height, self.scale)]\n",
    "        self.draw.line(coords, fill=self.color, width=self.stroke)\n",
    "\n",
    "    def lines(self, *points, closed=False):\n",
    "        coords = [p.coord(self.height, self.scale) for p in points]\n",
    "        if closed:\n",
    "            coords = coords + coords[:2]\n",
    "        self.draw.line(coords, fill=self.color, width=self.stroke, joint=\"curve\")\n",
    "        \n",
    "    def rectangle(self, p1, p2, outline=None):\n",
    "        if outline is None:\n",
    "            fill = self.color\n",
    "        else:\n",
    "            fill = outline\n",
    "        points = [Point(p1.x, p1.y), Point(p1.x, p2.y), Point(p2.x, p2.y), Point(p2.x, p1.y)]\n",
    "        self.lines(*points, closed=True)\n",
    "        \n",
    "    def face(self, *points):\n",
    "        coord_points = [p.coord(self.height, self.scale) for p in points]\n",
    "        self.draw.polygon(coord_points, fill=fill_color, outline=fill_color)\n",
    "\n",
    "    def arc(self, p1, p2, start, end):\n",
    "        coord_p1 = p1.coord(self.height, self.scale)\n",
    "        coord_p2 = p2.coord(self.height, self.scale)\n",
    "        self.draw.arc((coord_p1, coord_p2), start, end, width=self.stroke, fill=self.color)\n",
    "        # shift one pixel to work around a fill bug of pillow\n",
    "        self.draw.arc(((coord_p1[0]+1, coord_p1[1]), (coord_p2[0]+1, coord_p2[1])), start, end, width=self.stroke, fill=self.color)\n",
    "\n",
    "    def ellipse(self, p1, p2, fill_color):\n",
    "        coord_p1 = p1.coord(self.height, self.scale)\n",
    "        coord_p2 = p2.coord(self.height, self.scale)\n",
    "        self.draw.ellipse((coord_p1, coord_p2), fill=fill_color, outline=self.color, width = self.stroke)\n",
    "        # shift one pixel to work around a fill bug of pillow\n",
    "        self.draw.ellipse(((coord_p1[0]+1, coord_p1[1]), (coord_p2[0]+1, coord_p2[1])), fill=None, outline=self.color, width = self.stroke)\n",
    "        \n",
    "    def save(self, filename):\n",
    "        self.im.save(filename)"
   ]
  },
  {
   "cell_type": "markdown",
   "metadata": {},
   "source": [
    "## Common definitions"
   ]
  },
  {
   "cell_type": "code",
   "execution_count": 14,
   "metadata": {},
   "outputs": [],
   "source": [
    "width = 28\n",
    "height = 22\n",
    "scale = 10\n",
    "color = (64,64,64, 255)\n",
    "fill_color = (255, 204, 64)\n",
    "fill_color = (243, 156, 18)\n",
    "fill_color = (52, 152, 219)\n",
    "fill_color = (93, 173, 226)\n",
    "fill_color = (67, 127, 180) # cadquery logo blue - too dark for icons\n",
    "fill_color = (76, 144, 204) # slightly brighter\n",
    "fill_color = (83, 160, 227)\n",
    "background_color = (255,100,0,50)"
   ]
  },
  {
   "cell_type": "markdown",
   "metadata": {},
   "source": [
    "## Cube view icons"
   ]
  },
  {
   "cell_type": "code",
   "execution_count": 15,
   "metadata": {},
   "outputs": [
    {
     "data": {
      "image/png": "[encoded data removed]",
      "text/plain": [
       "<PIL.Image.Image image mode=RGBA size=1960x220 at 0x10F829208>"
      ]
     },
     "execution_count": 15,
     "metadata": {},
     "output_type": "execute_result"
    }
   ],
   "source": [
    "class Cube(Base):\n",
    "    \n",
    "    def __init__(self, width, height, scale=9, stroke=9, color=None, fill_color=None, background_color=None):\n",
    "        super().__init__(width, height, scale, stroke, color, fill_color, background_color)\n",
    "        \n",
    "    def create(self, face):\n",
    "        r = 13\n",
    "        dx = 7\n",
    "        dy = 5\n",
    "        f00 = Point(4,2)\n",
    "        f01 = f00.shift(0,r)\n",
    "        f10 = f00.shift(r,0)\n",
    "        f11 = f00.shift(r,r)\n",
    "        b00 = f00.shift(dx, dy)\n",
    "        b01 = b00.shift(0,r)\n",
    "        b10 = b00.shift(r,0)\n",
    "        b11 = b00.shift(r,r)\n",
    "\n",
    "        if face == \"rear\":\n",
    "            self.face(b00, b10, b11, b01)\n",
    "        self.lines(b00, b10, b11, b01, closed=True) # rear\n",
    "        \n",
    "        if face == \"bottom\":\n",
    "            self.face(f00, f10, b10, b00)\n",
    "        if face == \"right\":\n",
    "            self.face(f00, b00, b01, f01)\n",
    "\n",
    "        self.lines(f00, f10, b10, b00, closed = True) # bottom\n",
    "        self.lines(f00, b00, b01, f01, closed=True)   # right\n",
    "\n",
    "        if face == \"left\":\n",
    "            self.face(f10, b10, b11, f11)\n",
    "        if face == \"top\":\n",
    "            self.face(f01, f11, b11, b01)\n",
    "        if face == \"front\":\n",
    "            self.face(f00, f10, f11, f01)\n",
    "\n",
    "        self.lines(f10, b10, b11, f11, closed=True) # left\n",
    "        self.lines(f01, f11, b11, b01, closed=True) # top\n",
    "        self.lines(f00, f10, f11, f01, closed=True) # front\n",
    "        \n",
    "        return self.im\n",
    "\n",
    "\n",
    "new_im = Image.new('RGBA', (7 * width*scale, height*scale))\n",
    "x_offset = 0\n",
    "\n",
    "for face in [\"edges\", \"front\", \"rear\", \"bottom\", \"top\", \"right\", \"left\"]:\n",
    "    c = Cube(width, height, scale, stroke=scale, fill_color=fill_color, color=color, background_color=None)\n",
    "    c.create(face)\n",
    "    new_im.paste(c.im, (x_offset,0))\n",
    "    x_offset += c.im.size[0]\n",
    "    c.save(\"./icons/%s.png\" % face)\n",
    "\n",
    "new_im\n"
   ]
  },
  {
   "cell_type": "markdown",
   "metadata": {},
   "source": [
    "## Isometric view icon"
   ]
  },
  {
   "cell_type": "code",
   "execution_count": 16,
   "metadata": {},
   "outputs": [
    {
     "data": {
      "image/png": "[encoded data removed]",
      "text/plain": [
       "<PIL.Image.Image image mode=RGBA size=280x220 at 0x10F83C358>"
      ]
     },
     "execution_count": 16,
     "metadata": {},
     "output_type": "execute_result"
    }
   ],
   "source": [
    "import math\n",
    "\n",
    "class Isom(Base):\n",
    "    def __init__(self, width, height, scale=9, stroke=9, color=None, fill_color=None, background_color=None):\n",
    "        super().__init__(width, height, scale, stroke, color, fill_color, background_color)\n",
    "        \n",
    "    def create(self):\n",
    "        x0 = 6\n",
    "        r = 10\n",
    "        dy = r/2\n",
    "        dx = int(r*math.cos(math.pi/6))\n",
    "\n",
    "        f00 = Point(x0, 1 + dy)\n",
    "        f01 = f00.shift(0,r)\n",
    "        f10 = Point(x0 + dx, 1)\n",
    "        f11 = f10.shift(0,r)\n",
    "        f12 = f11.shift(0,r)\n",
    "        f20 = f00.shift(2*dx,0)\n",
    "        f21 = f20.shift(0,r)\n",
    "        \n",
    "        self.line(f10, f12)\n",
    "        self.lines(f00, f01, f12, f11)\n",
    "        self.face(f00, f01, f11, f10)\n",
    "        self.face(f10, f11, f21, f20)\n",
    "        self.face(f01, f11, f21, f12)\n",
    "        self.lines(f00, f01, f11, f10, closed=True)\n",
    "        self.lines(f10, f11, f21, f20, closed=True)\n",
    "        self.lines(f01, f11, f21, f12, closed=True)\n",
    "\n",
    "        return self.im\n",
    "\n",
    "\n",
    "c = Isom(width, height, scale, stroke=scale, fill_color=fill_color, color=color, background_color=None)\n",
    "c.create()\n",
    "c.save(\"./icons/isometric.png\")\n",
    "c.im\n"
   ]
  },
  {
   "cell_type": "markdown",
   "metadata": {},
   "source": [
    "## Fit icon"
   ]
  },
  {
   "cell_type": "code",
   "execution_count": 17,
   "metadata": {},
   "outputs": [
    {
     "data": {
      "image/png": "[encoded data removed]",
      "text/plain": [
       "<PIL.Image.Image image mode=RGBA size=280x220 at 0x10FD0E9E8>"
      ]
     },
     "execution_count": 17,
     "metadata": {},
     "output_type": "execute_result"
    }
   ],
   "source": [
    "class Fit(Base):\n",
    "    def __init__(self, width, height, scale=9, stroke=9, color=None, fill_color=None, background_color=None):\n",
    "        super().__init__(width, height, scale, stroke, color, fill_color, background_color)\n",
    "        \n",
    "    def create(self):\n",
    "        S2 = 4\n",
    "        P = 2\n",
    "        l = 4\n",
    "        x0 = 8\n",
    "        y0 = 5\n",
    "\n",
    "        b00 = Point(x0 - 3, y0 - 3)\n",
    "        b01 = Point(x0 - 3, self.height - 3)\n",
    "        b10 = Point(self.width - 6, y0 - 3)\n",
    "        b11 = Point(self.width - 6, self.height - 3)\n",
    "        f00 = Point(x0, y0)\n",
    "        g00 = f00.shift(l, l)\n",
    "\n",
    "        f01 = Point(x0, self.height - y0 - 1)\n",
    "        g01 = f01.shift(l, -l)\n",
    "\n",
    "        f10 = Point(self.width - x0 - 1, y0)\n",
    "        g10 = f10.shift(-l, l)\n",
    "\n",
    "        f11 = Point(self.width - x0 - 1, self.height - y0 - 1)\n",
    "        g11 = f11.shift(-l, -l)\n",
    "        \n",
    "        self.face(b00, b01, b11, b10)\n",
    "        self.rectangle(b00, b11)\n",
    "\n",
    "        self.line(f00, g00)\n",
    "        self.line(f01, g01)\n",
    "        self.line(f10, g10)\n",
    "        self.line(f11, g11)\n",
    "\n",
    "        self.lines(f00.shift(0,  P), f00, f00.shift( P, 0))\n",
    "        self.lines(g00.shift(0, -P), g00, g00.shift(-P, 0))\n",
    "\n",
    "        self.lines(f01.shift(0,-P), f01, f01.shift( P, 0))\n",
    "        self.lines(g01.shift(0, P), g01, g01.shift(-P, 0))\n",
    "\n",
    "        self.lines(f10.shift(0,  P), f10, f10.shift(-P, 0))\n",
    "        self.lines(g10.shift(0, -P), g10, g10.shift( P, 0))\n",
    "\n",
    "        self.lines(f11.shift(0, -P), f11, f11.shift(-P, 0))\n",
    "        self.lines(g11.shift(0,  P), g11, g11.shift( P, 0))\n",
    "\n",
    "        return self.im\n",
    "\n",
    "\n",
    "c = Fit(width, height, scale, stroke=scale, fill_color=fill_color, color=color, background_color=None)\n",
    "c.create()\n",
    "c.save(\"./icons/fit.png\")\n",
    "c.im\n"
   ]
  },
  {
   "cell_type": "markdown",
   "metadata": {},
   "source": [
    "## Visiblity icon"
   ]
  },
  {
   "cell_type": "code",
   "execution_count": 18,
   "metadata": {},
   "outputs": [
    {
     "data": {
      "image/png": "[encoded data removed]",
      "text/plain": [
       "<PIL.Image.Image image mode=RGBA size=560x220 at 0x10F84C6D8>"
      ]
     },
     "execution_count": 18,
     "metadata": {},
     "output_type": "execute_result"
    }
   ],
   "source": [
    "class Visible(Base):\n",
    "\n",
    "    def __init__(self, width, height, scale=9, stroke=9, color=None, fill_color=None, background_color=None):\n",
    "        super().__init__(width, height, scale, stroke, color, fill_color, background_color)\n",
    "        \n",
    "    def create(self, visible=True):\n",
    "        P = 1\n",
    "        R = 5\n",
    "        b00 = Point(3, self.height - 5)\n",
    "        b11 = Point(self.width - 3, 5)\n",
    "        c00 = Point(self.width // 2 - R, self.height // 2 + R)\n",
    "        c11 = Point(self.width // 2 + R, self.height // 2 - R)\n",
    "        p00 = Point(self.width // 2 - 2, self.height // 2 + 2)\n",
    "        p11 = Point(self.width // 2 + 2, self.height // 2 - 2)\n",
    "\n",
    "        self.arc(b00.shift(0,-P), b11.shift(0,-P), -170, -10)\n",
    "        self.arc(b00.shift(0, P), b11.shift(0, P), 10, 170)\n",
    "\n",
    "        if visible:\n",
    "            self.ellipse(c00, c11, fill_color=fill_color)\n",
    "            self.ellipse(p00, p11, fill_color=color)\n",
    "            self.ellipse(p00, p11, fill_color=color)\n",
    "        return self.im\n",
    "\n",
    "\n",
    "new_im = Image.new('RGBA', (2 * width*scale, height*scale))\n",
    "x_offset = 0\n",
    "\n",
    "for visible in [\"hidden\", \"visible\"]:\n",
    "    c = Visible(width, height, scale, stroke=scale, fill_color=fill_color, color=color, background_color=None)\n",
    "    c.create(visible == \"visible\")\n",
    "    new_im.paste(c.im, (x_offset,0))\n",
    "    x_offset += c.im.size[0]\n",
    "    c.save(\"./icons/%s.png\" % visible)\n",
    "\n",
    "new_im"
   ]
  },
  {
   "cell_type": "markdown",
   "metadata": {},
   "source": [
    "## Mesh icon"
   ]
  },
  {
   "cell_type": "code",
   "execution_count": 19,
   "metadata": {},
   "outputs": [
    {
     "data": {
      "image/png": "[encoded data removed]",
      "text/plain": [
       "<PIL.Image.Image image mode=RGBA size=560x220 at 0x10FD1FBE0>"
      ]
     },
     "execution_count": 19,
     "metadata": {},
     "output_type": "execute_result"
    }
   ],
   "source": [
    "class Mesh(Base):\n",
    "    def __init__(self, width, height, scale=9, stroke=9, color=None, fill_color=None, background_color=None):\n",
    "        super().__init__(width, height, scale, stroke, color, fill_color, background_color)\n",
    "        \n",
    "    def create(self, mesh=True):\n",
    "\n",
    "        f00 = Point(5, 5)\n",
    "        f01 = Point(3, 9)\n",
    "        f02 = Point(3, 13)\n",
    "        f03 = Point(5, 17)\n",
    "        f10 = f00.shift(10, 0)\n",
    "        f11 = f01.shift(10, 0)\n",
    "        f12 = f02.shift(10, 0)\n",
    "        f13 = f03.shift(10, 0)\n",
    "        f20 = f10.shift(10, 0)\n",
    "        f21 = f11.shift(10, 0)\n",
    "        f22 = f12.shift(10, 0)\n",
    "        f23 = f13.shift(10, 0)\n",
    "        \n",
    "        self.face(f00, f01, f11, f10)\n",
    "        self.face(f01, f02, f12, f11)\n",
    "        self.face(f02, f03, f13, f12)\n",
    "        self.face(f10, f11, f21, f20)\n",
    "        self.face(f11, f12, f22, f21)\n",
    "        self.face(f12, f13, f23, f22)\n",
    "\n",
    "        if mesh:\n",
    "            self.lines(f00, f01, f11, f10, closed=True)\n",
    "            self.lines(f01, f02, f12, f11, closed=True)\n",
    "            self.lines(f02, f03, f13, f12, closed=True)\n",
    "            self.lines(f10, f11, f21, f20, closed=True)\n",
    "            self.lines(f11, f12, f22, f21, closed=True)\n",
    "            self.lines(f12, f13, f23, f22, closed=True)\n",
    "\n",
    "        return self.im\n",
    "\n",
    "new_im = Image.new('RGBA', (2 * width*scale, height*scale))\n",
    "x_offset = 0\n",
    "\n",
    "for visible in [\"mesh\", \"no_mesh\"]:\n",
    "    c = Mesh(width, height, scale, stroke=scale, fill_color=fill_color, color=color, background_color=None)\n",
    "    c.create(visible == \"mesh\")\n",
    "    new_im.paste(c.im, (x_offset,0))\n",
    "    x_offset += c.im.size[0]\n",
    "    c.save(\"./icons/%s.png\" % visible)\n",
    "\n",
    "new_im"
   ]
  },
  {
   "cell_type": "markdown",
   "metadata": {},
   "source": [
    "# Install icons"
   ]
  },
  {
   "cell_type": "code",
   "execution_count": 21,
   "metadata": {},
   "outputs": [],
   "source": [
    "!cp icons/* cq_jupyter/imgs/"
   ]
  },
  {
   "cell_type": "code",
   "execution_count": null,
   "metadata": {},
   "outputs": [],
   "source": []
  }
 ],
 "metadata": {
  "kernelspec": {
   "display_name": "Python 3",
   "language": "python",
   "name": "python3"
  },
  "language_info": {
   "codemirror_mode": {
    "name": "ipython",
    "version": 3
   },
   "file_extension": ".py",
   "mimetype": "text/x-python",
   "name": "python",
   "nbconvert_exporter": "python",
   "pygments_lexer": "ipython3",
   "version": "3.6.6"
  }
 },
 "nbformat": 4,
 "nbformat_minor": 2
}
