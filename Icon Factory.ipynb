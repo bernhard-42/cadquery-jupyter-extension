{
 "cells": [
  {
   "cell_type": "code",
   "execution_count": 1,
   "metadata": {},
   "outputs": [],
   "source": [
    "from PIL import Image, ImageDraw\n",
    "import numpy as np\n",
    "from IPython.display import HTML"
   ]
  },
  {
   "cell_type": "code",
   "execution_count": 2,
   "metadata": {},
   "outputs": [],
   "source": [
    "S = 8\n",
    "width = 28\n",
    "height = 22\n",
    "\n",
    "color = (64,64,64, 255)\n",
    "fill_color = (255, 204, 64)"
   ]
  },
  {
   "cell_type": "code",
   "execution_count": 3,
   "metadata": {},
   "outputs": [
    {
     "data": {
      "image/png": "[encoded data removed]",
      "text/plain": [
       "<PIL.Image.Image image mode=RGBA size=224x176 at 0x11614DCF8>"
      ]
     },
     "execution_count": 3,
     "metadata": {},
     "output_type": "execute_result"
    }
   ],
   "source": [
    "test_color = None \n",
    "# test_color = (255,0,0, 50)\n",
    "\n",
    "def c(xy):\n",
    "    return (xy[0]*S, (height-xy[1])*S)\n",
    "\n",
    "def d(xy, Sd):\n",
    "    return (xy[0]*S + Sd, (height-xy[1])*S + Sd)\n",
    "\n",
    "def add(x,y):\n",
    "    return (x[0]+y[0], x[1]+y[1])\n",
    "\n",
    "def cube(face):\n",
    "    im = Image.new(\"RGBA\", (width*S, height*S), color=test_color)\n",
    "\n",
    "    draw = ImageDraw.Draw(im)\n",
    "    r = 13\n",
    "    dx = 7\n",
    "    dy = 5\n",
    "    f00 = (4,2)\n",
    "    f01 = add(f00, (0,r))\n",
    "    f10 = add(f00, (r,0))\n",
    "    f11 = add(f00, (r,r))\n",
    "    b00 = add(f00, (dx, dy))\n",
    "    b01 = add(b00, (0,r))\n",
    "    b10 = add(b00, (r,0))\n",
    "    b11 = add(b00, (r,r))\n",
    "\n",
    "        \n",
    "    if face == \"rear\":\n",
    "        draw.polygon((c(b00), c(b10), c(b11), c(b01)), fill=fill_color, outline=fill_color)\n",
    "    \n",
    "    draw.rectangle((c(b00), c(b11)), fill=None, width=S, outline=color)\n",
    "\n",
    "    if face == \"bottom\":\n",
    "        draw.polygon((c(f00), c(f10), c(b10), c(b00)), fill=fill_color, outline=fill_color)\n",
    "    if face == \"top\":\n",
    "        draw.polygon((c(f01), c(f11), c(b11), c(b01)), fill=fill_color, outline=fill_color)\n",
    "    if face == \"right\":\n",
    "        draw.polygon((c(f00), c(b00), c(b01), c(f01)), fill=fill_color, outline=fill_color)\n",
    "    if face == \"left\":\n",
    "        draw.polygon((c(f10), c(b10), c(b11), c(f11)), fill=fill_color, outline=fill_color)\n",
    "\n",
    "    draw.line((add(c(f00),(2,-3)),  add(c(b00), (2,-3))),  width=S, fill=color)\n",
    "    draw.line((add(c(f01),(3,1)),   add(c(b01), (3,2))),   width=S, fill=(color))\n",
    "    draw.line((add(c(f10),(-2,-3)), add(c(b10), (-2,-3))), width=S, fill=color)\n",
    "    draw.line((add(c(f11),(-3,3)),  add(c(b11), (-3,3))),  width=S, fill=color)\n",
    "    draw.line((add(c(b01),(0,3)),   add(c(b11), (0,3))),   width=S, fill=color)\n",
    "    draw.line((add(c(b10),(-2,0)),  add(c(b11), (-2,0))),  width=S, fill=color)\n",
    "    \n",
    "    if face == \"front\":\n",
    "        draw.polygon((c(f00), c(f10), c(f11), c(f01)), fill=fill_color, outline=fill_color)\n",
    "    draw.rectangle((c(f00), c(f11)), fill=None, width=S, outline=color)\n",
    "    \n",
    "    return im\n",
    "\n",
    "for face in [\"edges\", \"front\", \"rear\", \"bottom\", \"top\", \"right\", \"left\"]:\n",
    "    im = cube(face)\n",
    "    im.save(\"./icons/%s.png\" % face)\n",
    "im"
   ]
  },
  {
   "cell_type": "code",
   "execution_count": 4,
   "metadata": {},
   "outputs": [
    {
     "data": {
      "image/png": "[encoded data removed]",
      "text/plain": [
       "<PIL.Image.Image image mode=RGBA size=224x176 at 0x1161CA198>"
      ]
     },
     "execution_count": 4,
     "metadata": {},
     "output_type": "execute_result"
    }
   ],
   "source": [
    "import math\n",
    "\n",
    "def isom():\n",
    "    im = Image.new(\"RGBA\", (width*S, height*S), color=test_color)\n",
    "\n",
    "    draw = ImageDraw.Draw(im)\n",
    " \n",
    "    x0 = 6\n",
    "    r = 10\n",
    "    dy = r/2\n",
    "    dx = int(r*math.cos(math.pi/6))\n",
    "\n",
    "    f00 = (x0, 1+dy)\n",
    "    f01 = add(f00, (0,r))\n",
    "    f10 = (x0+dx, 1)\n",
    "    f11 = add(f10, (0,r))\n",
    "    f12 = add(f11, (0,r))\n",
    "    f20 = add(f00,(2*dx,0))\n",
    "    f21 = add(f20, (0,r))\n",
    "    draw.line((add(c(f10), (0,0)), add(c(f12), (0,-1))), width=4, fill=color)\n",
    "    draw.polygon((c(f00), c(f01), c(f11), c(f10)), fill=fill_color, outline=color)\n",
    "    draw.polygon((c(f10), c(f11), c(f21), c(f20)), fill=fill_color, outline=color)\n",
    "    draw.polygon((c(f01), c(f11), c(f21), c(f12)), fill=fill_color, outline=color)\n",
    "    draw.line((add(c(f00), (-2,-3)), add(c(f10), (-2,-3))), width=S, fill=color)\n",
    "    draw.line((add(c(f10), (1,-3)), add(c(f20), (1,-3))), width=S, fill=color)\n",
    "    draw.line((add(c(f01), (0,0)), add(c(f11), (0,0))), width=S, fill=color)\n",
    "    draw.line((add(c(f11), (0,0)), add(c(f21), (0,0))), width=S, fill=color)\n",
    "    draw.line((add(c(f01), (0,2)), add(c(f12), (0,2))), width=S, fill=color)\n",
    "    draw.line((add(c(f12), (0,2)), add(c(f21), (0,2))), width=S, fill=color)\n",
    "    draw.line((add(c(f00), (1,0)), add(c(f01), (1,0))), width=S, fill=color)\n",
    "    draw.line((add(c(f10), (0,0)), add(c(f11), (0,0))), width=S, fill=color)\n",
    "    draw.line((add(c(f20), (-1,0)), add(c(f21), (-1,0))), width=S, fill=color)\n",
    "    \n",
    "    return im\n",
    "im = isom()\n",
    "im.save(\"./icons/isometric.png\")\n",
    "im"
   ]
  },
  {
   "cell_type": "code",
   "execution_count": 5,
   "metadata": {},
   "outputs": [
    {
     "data": {
      "image/png": "[encoded data removed]",
      "text/plain": [
       "<PIL.Image.Image image mode=RGBA size=224x176 at 0x10F2C6D68>"
      ]
     },
     "execution_count": 5,
     "metadata": {},
     "output_type": "execute_result"
    }
   ],
   "source": [
    "def fit():\n",
    "    im = Image.new(\"RGBA\", (width*S, height*S), color=test_color)\n",
    "\n",
    "    draw = ImageDraw.Draw(im)\n",
    "\n",
    "    S2 = 4\n",
    "    P = 2\n",
    "    l = 4\n",
    "    x0 = 8\n",
    "    y0 = 5\n",
    "    \n",
    "    b00 = (x0-3, y0-3)\n",
    "    b11 = (width-6, height-3)\n",
    "    \n",
    "    f00 = (x0, y0)\n",
    "    g00 = add(f00, (l,l))\n",
    "\n",
    "    f01 = (x0, height-y0-1)\n",
    "    g01 = add(f01, (l,-l))\n",
    "\n",
    "    f10 = (width - x0-1, y0)\n",
    "    g10 = add(f10, (-l,l))\n",
    "    \n",
    "    f11 = (width - x0-1, height-y0-1)\n",
    "    g11 = add(f11, (-l,-l))\n",
    "    \n",
    "    draw.rectangle((c(b00), c(b11)), fill=fill_color, width=S, outline=color)\n",
    "    \n",
    "    draw.line((c(f00), c(g00)), width=S2, fill=color)\n",
    "    draw.line((c(f01), c(g01)), width=S2, fill=color)\n",
    "    draw.line((c(f10), c(g10)), width=S2, fill=color)\n",
    "    draw.line((c(f11), c(g11)), width=S2, fill=color)\n",
    "\n",
    "    draw.line((c(f00), c(add(f00, (0, P)))), width=S2, fill=color)\n",
    "    draw.line((c(f00), c(add(f00, (P, 0)))), width=S2, fill=color)\n",
    "    draw.line((c(g00), c(add(g00, (0, -P)))), width=S2, fill=color)\n",
    "    draw.line((c(g00), c(add(g00, (-P, 0)))), width=S2, fill=color)\n",
    "    \n",
    "    draw.line((c(f01), c(add(f01, (0, -P)))), width=S2, fill=color)\n",
    "    draw.line((c(f01), c(add(f01, (P, 0)))), width=S2, fill=color)\n",
    "    draw.line((c(g01), c(add(g01, (0, P)))), width=S2, fill=color)\n",
    "    draw.line((c(g01), c(add(g01, (-P, 0)))), width=S2, fill=color)\n",
    "    \n",
    "    draw.line((c(f10), c(add(f10, (0, P)))), width=S2, fill=color)\n",
    "    draw.line((c(f10), c(add(f10, (-P, 0)))), width=S2, fill=color)\n",
    "    draw.line((c(g10), c(add(g10, (0, -P)))), width=S2, fill=color)\n",
    "    draw.line((c(g10), c(add(g10, (P, 0)))), width=S2, fill=color)\n",
    "    \n",
    "    draw.line((c(f11), c(add(f11, (0, -P)))), width=S2, fill=color)\n",
    "    draw.line((c(f11), c(add(f11, (-P, 0)))), width=S2, fill=color)\n",
    "    draw.line((c(g11), c(add(g11, (0, P)))), width=S2, fill=color)\n",
    "    draw.line((c(g11), c(add(g11, (P, 0)))), width=S2, fill=color)\n",
    "    \n",
    "    return im\n",
    "\n",
    "im = fit()\n",
    "im.save(\"icons/fit.png\")\n",
    "im"
   ]
  },
  {
   "cell_type": "code",
   "execution_count": 11,
   "metadata": {},
   "outputs": [
    {
     "data": {
      "image/png": "[encoded data removed]",
      "text/plain": [
       "<PIL.Image.Image image mode=RGBA size=224x176 at 0x10F2D2FD0>"
      ]
     },
     "execution_count": 11,
     "metadata": {},
     "output_type": "execute_result"
    }
   ],
   "source": [
    "import math\n",
    "\n",
    "test_color = None \n",
    "#test_color = (255,0,0, 50)\n",
    "\n",
    "def visible(visible=True):\n",
    "    im = Image.new(\"RGBA\", (width*S, height*S), color=test_color)\n",
    "\n",
    "    P = 8\n",
    "    R = 5\n",
    "    b00 = (3, height - 5)\n",
    "    b11 = (width - 3, 5)\n",
    "    c00 = (width // 2 - R, height // 2 + R)\n",
    "    c11 = (width // 2 + R, height // 2 - R)\n",
    "    p00 = (width // 2 - 2, height // 2 + 2)\n",
    "    p11 = (width // 2 + 2, height // 2 - 2)\n",
    "\n",
    "    draw = ImageDraw.Draw(im)\n",
    "    draw.arc((add(c(b00), (0,P)), add(c(b11), (0,P))), start=-170, end=-10, width=S, fill=color)\n",
    "    draw.arc((add(c(b00), (0,-P)), add(c(b11), (0,-P))), start=10, end=170, width=S, fill=color)\n",
    "    if visible:\n",
    "        draw.ellipse((*c(c00), *c(c11)), width=S, outline=color, fill=fill_color)\n",
    "        draw.ellipse((*c(p00), *c(p11)), width=S, outline=color, fill=color)\n",
    "    return im\n",
    "\n",
    "im = visible(False)\n",
    "im.save(\"icons/visible.png\")\n",
    "im"
   ]
  },
  {
   "cell_type": "code",
   "execution_count": 12,
   "metadata": {},
   "outputs": [
    {
     "data": {
      "image/png": "[encoded data removed]",
      "text/plain": [
       "<PIL.Image.Image image mode=RGBA size=224x176 at 0x11614D898>"
      ]
     },
     "execution_count": 12,
     "metadata": {},
     "output_type": "execute_result"
    }
   ],
   "source": [
    "im = visible(True)\n",
    "im.save(\"icons/hidden.png\")\n",
    "im"
   ]
  },
  {
   "cell_type": "code",
   "execution_count": 10,
   "metadata": {},
   "outputs": [
    {
     "data": {
      "image/png": "[encoded data removed]",
      "text/plain": [
       "<PIL.Image.Image image mode=RGBA size=224x176 at 0x10F2D22B0>"
      ]
     },
     "execution_count": 10,
     "metadata": {},
     "output_type": "execute_result"
    }
   ],
   "source": [
    "import math\n",
    "\n",
    "test_color = None \n",
    "#test_color = (255,0,0, 50)\n",
    "\n",
    "def mesh(mesh=True):\n",
    "    im = Image.new(\"RGBA\", (width*S, height*S), color=test_color)\n",
    "    draw = ImageDraw.Draw(im)\n",
    "    \n",
    "    f00 = (3, 4)\n",
    "    f01 = (3, height-4)\n",
    "    f10 = (width-3, 4)\n",
    "    f11 = (width-3, height-4) \n",
    "    \n",
    "    if mesh:\n",
    "        draw.rectangle((c(f00), c(f11)), fill=fill_color, width=S, outline=color)\n",
    "        draw.line((c(add(f00, (0,5))), c(add(f10, (0,5)))), width=S, fill=color)\n",
    "        draw.line((c(add(f00, (0,9))), c(add(f10, (0,9)))), width=S, fill=color)\n",
    "        draw.line((c(add(f00, (11,0))), c(add(f01, (11,0)))), width=S, fill=color)\n",
    "    else:\n",
    "        draw.rectangle((c(f00), c(f11)), fill=fill_color, width=S, outline=None)\n",
    "\n",
    "    return im\n",
    "\n",
    "im = mesh(False)\n",
    "im.save(\"icons/no_mesh.png\")\n",
    "im"
   ]
  },
  {
   "cell_type": "code",
   "execution_count": 9,
   "metadata": {},
   "outputs": [
    {
     "data": {
      "image/png": "[encoded data removed]",
      "text/plain": [
       "<PIL.Image.Image image mode=RGBA size=224x176 at 0x1161CA780>"
      ]
     },
     "execution_count": 9,
     "metadata": {},
     "output_type": "execute_result"
    }
   ],
   "source": [
    "im = mesh(True)\n",
    "im.save(\"icons/mesh.png\")\n",
    "im"
   ]
  },
  {
   "cell_type": "code",
   "execution_count": 5,
   "metadata": {},
   "outputs": [
    {
     "ename": "TypeError",
     "evalue": "not enough arguments for format string",
     "output_type": "error",
     "traceback": [
      "\u001b[0;31m---------------------------------------------------------------------------\u001b[0m",
      "\u001b[0;31mTypeError\u001b[0m                                 Traceback (most recent call last)",
      "\u001b[0;32m<ipython-input-5-7e6592bf7437>\u001b[0m in \u001b[0;36m<module>\u001b[0;34m\u001b[0m\n\u001b[1;32m      1\u001b[0m \u001b[0mcolor\u001b[0m \u001b[0;34m=\u001b[0m \u001b[0;34m(\u001b[0m\u001b[0;36m255\u001b[0m\u001b[0;34m,\u001b[0m\u001b[0;36m100\u001b[0m\u001b[0;34m,\u001b[0m\u001b[0;36m0\u001b[0m\u001b[0;34m)\u001b[0m\u001b[0;34m\u001b[0m\u001b[0m\n\u001b[0;32m----> 2\u001b[0;31m \u001b[0;34m\"#%02s%02s%02s\"\u001b[0m \u001b[0;34m%\u001b[0m \u001b[0;34m[\u001b[0m\u001b[0mhex\u001b[0m\u001b[0;34m(\u001b[0m\u001b[0mc\u001b[0m\u001b[0;34m)\u001b[0m\u001b[0;34m[\u001b[0m\u001b[0;36m2\u001b[0m\u001b[0;34m:\u001b[0m\u001b[0;34m]\u001b[0m \u001b[0;32mfor\u001b[0m \u001b[0mc\u001b[0m \u001b[0;32min\u001b[0m \u001b[0mcolor\u001b[0m\u001b[0;34m]\u001b[0m\u001b[0;34m\u001b[0m\u001b[0m\n\u001b[0m",
      "\u001b[0;31mTypeError\u001b[0m: not enough arguments for format string"
     ]
    }
   ],
   "source": [
    "color = (255,100,0)\n",
    "\"#%02s%02s%02s\" % [hex(c)[2:] for c in color]"
   ]
  },
  {
   "cell_type": "code",
   "execution_count": 6,
   "metadata": {},
   "outputs": [
    {
     "data": {
      "text/plain": [
       "['ff', '64', '0']"
      ]
     },
     "execution_count": 6,
     "metadata": {},
     "output_type": "execute_result"
    }
   ],
   "source": [
    "[hex(c)[2:] for c in color]"
   ]
  },
  {
   "cell_type": "code",
   "execution_count": 11,
   "metadata": {},
   "outputs": [
    {
     "data": {
      "text/plain": [
       "'#ff6400'"
      ]
     },
     "execution_count": 11,
     "metadata": {},
     "output_type": "execute_result"
    }
   ],
   "source": [
    "\"#%02x%02x%02x\" % color"
   ]
  },
  {
   "cell_type": "code",
   "execution_count": 12,
   "metadata": {},
   "outputs": [
    {
     "data": {
      "text/plain": [
       "(255, 100, 0)"
      ]
     },
     "execution_count": 12,
     "metadata": {},
     "output_type": "execute_result"
    }
   ],
   "source": [
    "tuple(color)"
   ]
  },
  {
   "cell_type": "code",
   "execution_count": 13,
   "metadata": {},
   "outputs": [
    {
     "data": {
      "text/plain": [
       "('ff', '64', '0')"
      ]
     },
     "execution_count": 13,
     "metadata": {},
     "output_type": "execute_result"
    }
   ],
   "source": [
    "tuple(['ff', '64', '0'])"
   ]
  },
  {
   "cell_type": "code",
   "execution_count": null,
   "metadata": {},
   "outputs": [],
   "source": []
  }
 ],
 "metadata": {
  "kernelspec": {
   "display_name": "Python 3",
   "language": "python",
   "name": "python3"
  },
  "language_info": {
   "codemirror_mode": {
    "name": "ipython",
    "version": 3
   },
   "file_extension": ".py",
   "mimetype": "text/x-python",
   "name": "python",
   "nbconvert_exporter": "python",
   "pygments_lexer": "ipython3",
   "version": "3.6.6"
  }
 },
 "nbformat": 4,
 "nbformat_minor": 2
}
